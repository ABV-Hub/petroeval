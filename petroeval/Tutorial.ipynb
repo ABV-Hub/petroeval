{
 "cells": [
  {
   "cell_type": "code",
   "execution_count": 1,
   "metadata": {},
   "outputs": [
    {
     "name": "stdout",
     "output_type": "stream",
     "text": [
      "Collecting petroeval==1.1.0\n",
      "  Using cached petroeval-1.1.0-py3-none-any.whl (6.1 kB)\n",
      "Requirement already satisfied: numpy in /home/olawale/anaconda3/lib/python3.7/site-packages (from petroeval==1.1.0) (1.18.1)\n",
      "Requirement already satisfied: matplotlib in /home/olawale/anaconda3/lib/python3.7/site-packages (from petroeval==1.1.0) (3.1.3)\n",
      "Requirement already satisfied: pandas in /home/olawale/anaconda3/lib/python3.7/site-packages (from petroeval==1.1.0) (1.0.1)\n",
      "Requirement already satisfied: python-dateutil>=2.1 in /home/olawale/anaconda3/lib/python3.7/site-packages (from matplotlib->petroeval==1.1.0) (2.8.1)\n",
      "Requirement already satisfied: kiwisolver>=1.0.1 in /home/olawale/anaconda3/lib/python3.7/site-packages (from matplotlib->petroeval==1.1.0) (1.1.0)\n",
      "Requirement already satisfied: cycler>=0.10 in /home/olawale/anaconda3/lib/python3.7/site-packages (from matplotlib->petroeval==1.1.0) (0.10.0)\n",
      "Requirement already satisfied: pyparsing!=2.0.4,!=2.1.2,!=2.1.6,>=2.0.1 in /home/olawale/anaconda3/lib/python3.7/site-packages (from matplotlib->petroeval==1.1.0) (2.4.6)\n",
      "Requirement already satisfied: pytz>=2017.2 in /home/olawale/anaconda3/lib/python3.7/site-packages (from pandas->petroeval==1.1.0) (2019.3)\n",
      "Requirement already satisfied: six>=1.5 in /home/olawale/anaconda3/lib/python3.7/site-packages (from python-dateutil>=2.1->matplotlib->petroeval==1.1.0) (1.14.0)\n",
      "Requirement already satisfied: setuptools in /home/olawale/anaconda3/lib/python3.7/site-packages (from kiwisolver>=1.0.1->matplotlib->petroeval==1.1.0) (45.2.0.post20200210)\n",
      "Installing collected packages: petroeval\n",
      "  Attempting uninstall: petroeval\n",
      "    Found existing installation: petroeval 1.0.8\n",
      "    Uninstalling petroeval-1.0.8:\n",
      "      Successfully uninstalled petroeval-1.0.8\n",
      "Successfully installed petroeval-1.1.0\n"
     ]
    }
   ],
   "source": [
    "!pip install petroeval==1.1.0"
   ]
  },
  {
   "cell_type": "code",
   "execution_count": 5,
   "metadata": {},
   "outputs": [
    {
     "data": {
      "text/plain": [
       "'/home/olawale/anaconda3/lib/python3.7/site-packages/petroeval/__init__.py'"
      ]
     },
     "execution_count": 5,
     "metadata": {},
     "output_type": "execute_result"
    }
   ],
   "source": [
    "petroeval.__file__"
   ]
  },
  {
   "cell_type": "code",
   "execution_count": 10,
   "metadata": {},
   "outputs": [
    {
     "name": "stderr",
     "output_type": "stream",
     "text": [
      "Header section Parameter regexp=~P was not found.\n"
     ]
    }
   ],
   "source": [
    "#import well log in las file and convert to dataframe\n",
    "import lasio\n",
    "las = lasio.read('WLC_PETRO_COMPUTED_INPUT_1.LAS')\n",
    "df = las.df()"
   ]
  },
  {
   "cell_type": "code",
   "execution_count": 11,
   "metadata": {},
   "outputs": [],
   "source": [
    "import petroeval\n",
    "from petroeval import evaluate_reservoir, visualizations\n",
    "from petroeval import FormationEvaluation"
   ]
  },
  {
   "cell_type": "code",
   "execution_count": 12,
   "metadata": {},
   "outputs": [
    {
     "name": "stdout",
     "output_type": "stream",
     "text": [
      "<module 'petroeval.evaluate_reservoir' from '/home/olawale/Desktop/petroeval/petroeval/petroeval/evaluate_reservoir.py'>\n"
     ]
    }
   ],
   "source": [
    "print(evaluate_reservoir)"
   ]
  },
  {
   "cell_type": "code",
   "execution_count": 13,
   "metadata": {},
   "outputs": [
    {
     "name": "stdout",
     "output_type": "stream",
     "text": [
      "<evaluate_reservoir.FormationEvaluation object at 0x7fd35afa6690>\n"
     ]
    }
   ],
   "source": [
    "#create the reservoir section object\n",
    "\n",
    "reservoir1 = FormationEvaluation(df, 'GR', 'NPHI', 'RHOB', 'RT', 2, 10000, 72)\n",
    "table = reservoir1.show_table()\n",
    "print(reservoir1)"
   ]
  },
  {
   "cell_type": "code",
   "execution_count": null,
   "metadata": {},
   "outputs": [],
   "source": []
  },
  {
   "cell_type": "code",
   "execution_count": 18,
   "metadata": {},
   "outputs": [],
   "source": [
    "#fill missing values using mean values of the columns, specify value if mean shouldn't be applied\n",
    "#df1 = reservoir1.fill_missing(use_mean=True)"
   ]
  },
  {
   "cell_type": "code",
   "execution_count": 14,
   "metadata": {},
   "outputs": [
    {
     "name": "stdout",
     "output_type": "stream",
     "text": [
      "Title: Petrophysical Summary of the Parameters Evaluated\n",
      "                GR        LITHO          VSH      NET_PAY        PHIDF  \\\n",
      "count  9997.000000  9999.000000  9997.000000  9999.000000  2717.000000   \n",
      "mean     82.227914     0.356236     4.109587     0.233323     0.441092   \n",
      "std      36.974956     0.478910     4.393245     0.422967     0.080894   \n",
      "min      10.688800     0.000000     0.000000     0.000000     0.153939   \n",
      "25%      56.037899     0.000000     0.162859     0.000000     0.386061   \n",
      "50%      81.305603     0.000000     2.437429     0.000000     0.430545   \n",
      "75%     118.616699     1.000000     8.202534     0.000000     0.487394   \n",
      "max     161.530197     1.000000    18.381460     1.000000     0.743455   \n",
      "\n",
      "         PHIE           SW      OIL_SAT  \n",
      "count  2716.0  2717.000000  2717.000000  \n",
      "mean      0.0     0.162495     0.837505  \n",
      "std       0.0     0.041624     0.041624  \n",
      "min       0.0     0.007649     0.470580  \n",
      "25%       0.0     0.138382     0.825635  \n",
      "50%       0.0     0.154670     0.845330  \n",
      "75%       0.0     0.174365     0.861618  \n",
      "max       0.0     0.529420     0.992351  \n"
     ]
    }
   ],
   "source": [
    "print(visualizations.summary(table))"
   ]
  },
  {
   "cell_type": "code",
   "execution_count": 15,
   "metadata": {},
   "outputs": [
    {
     "name": "stdout",
     "output_type": "stream",
     "text": [
      "{'Gross rock': 3562, 'The Net to Gross is:': 0.6549691184727681, 'Net Pay of reservoir:': 2333, 'Total Porosity:': 0.4410923398333721, 'Effective Porosity:': 0.0, 'Water Saturation:': 0.1624947860041707, 'Oil Saturation:': 0.8375052139958293}\n"
     ]
    }
   ],
   "source": [
    "print(reservoir1.parameters())"
   ]
  },
  {
   "cell_type": "code",
   "execution_count": 20,
   "metadata": {},
   "outputs": [
    {
     "data": {
      "image/png": "[encoded data removed]",
      "text/plain": [
       "<Figure size 864x576 with 4 Axes>"
      ]
     },
     "metadata": {
      "needs_background": "light"
     },
     "output_type": "display_data"
    }
   ],
   "source": [
    "#to display logs for correlation\n",
    "\n",
    "visualizations.log_plot(df)"
   ]
  },
  {
   "cell_type": "code",
   "execution_count": 22,
   "metadata": {},
   "outputs": [
    {
     "data": {
      "text/html": [
       "<div>\n",
       "<style scoped>\n",
       "    .dataframe tbody tr th:only-of-type {\n",
       "        vertical-align: middle;\n",
       "    }\n",
       "\n",
       "    .dataframe tbody tr th {\n",
       "        vertical-align: top;\n",
       "    }\n",
       "\n",
       "    .dataframe thead th {\n",
       "        text-align: right;\n",
       "    }\n",
       "</style>\n",
       "<table border=\"1\" class=\"dataframe\">\n",
       "  <thead>\n",
       "    <tr style=\"text-align: right;\">\n",
       "      <th></th>\n",
       "      <th>CARB_FLAG</th>\n",
       "      <th>COAL_FLAG</th>\n",
       "      <th>DT</th>\n",
       "      <th>GR</th>\n",
       "      <th>NPHI</th>\n",
       "      <th>RD</th>\n",
       "      <th>RHOB</th>\n",
       "      <th>ROP5_RM</th>\n",
       "      <th>RS</th>\n",
       "      <th>RT</th>\n",
       "      <th>SAND_FLAG</th>\n",
       "      <th>DEPTH</th>\n",
       "    </tr>\n",
       "    <tr>\n",
       "      <th>DEPTH</th>\n",
       "      <th></th>\n",
       "      <th></th>\n",
       "      <th></th>\n",
       "      <th></th>\n",
       "      <th></th>\n",
       "      <th></th>\n",
       "      <th></th>\n",
       "      <th></th>\n",
       "      <th></th>\n",
       "      <th></th>\n",
       "      <th></th>\n",
       "      <th></th>\n",
       "    </tr>\n",
       "  </thead>\n",
       "  <tbody>\n",
       "    <tr>\n",
       "      <th>239.8776</th>\n",
       "      <td>NaN</td>\n",
       "      <td>NaN</td>\n",
       "      <td>NaN</td>\n",
       "      <td>NaN</td>\n",
       "      <td>NaN</td>\n",
       "      <td>0.7766</td>\n",
       "      <td>NaN</td>\n",
       "      <td>98.863197</td>\n",
       "      <td>4.490900</td>\n",
       "      <td>0.1015</td>\n",
       "      <td>NaN</td>\n",
       "      <td>239.8776</td>\n",
       "    </tr>\n",
       "    <tr>\n",
       "      <th>240.0300</th>\n",
       "      <td>NaN</td>\n",
       "      <td>NaN</td>\n",
       "      <td>NaN</td>\n",
       "      <td>NaN</td>\n",
       "      <td>NaN</td>\n",
       "      <td>0.7717</td>\n",
       "      <td>NaN</td>\n",
       "      <td>98.687103</td>\n",
       "      <td>6.752500</td>\n",
       "      <td>0.1000</td>\n",
       "      <td>NaN</td>\n",
       "      <td>240.0300</td>\n",
       "    </tr>\n",
       "    <tr>\n",
       "      <th>240.1824</th>\n",
       "      <td>NaN</td>\n",
       "      <td>NaN</td>\n",
       "      <td>NaN</td>\n",
       "      <td>NaN</td>\n",
       "      <td>NaN</td>\n",
       "      <td>0.7717</td>\n",
       "      <td>NaN</td>\n",
       "      <td>99.039299</td>\n",
       "      <td>6.752500</td>\n",
       "      <td>0.1000</td>\n",
       "      <td>NaN</td>\n",
       "      <td>240.1824</td>\n",
       "    </tr>\n",
       "    <tr>\n",
       "      <th>240.3348</th>\n",
       "      <td>NaN</td>\n",
       "      <td>NaN</td>\n",
       "      <td>NaN</td>\n",
       "      <td>20.866899</td>\n",
       "      <td>NaN</td>\n",
       "      <td>0.4374</td>\n",
       "      <td>NaN</td>\n",
       "      <td>99.760498</td>\n",
       "      <td>12.005200</td>\n",
       "      <td>0.1000</td>\n",
       "      <td>NaN</td>\n",
       "      <td>240.3348</td>\n",
       "    </tr>\n",
       "    <tr>\n",
       "      <th>240.4872</th>\n",
       "      <td>NaN</td>\n",
       "      <td>NaN</td>\n",
       "      <td>NaN</td>\n",
       "      <td>20.984800</td>\n",
       "      <td>NaN</td>\n",
       "      <td>2.3402</td>\n",
       "      <td>NaN</td>\n",
       "      <td>99.748299</td>\n",
       "      <td>139.059204</td>\n",
       "      <td>0.1000</td>\n",
       "      <td>NaN</td>\n",
       "      <td>240.4872</td>\n",
       "    </tr>\n",
       "    <tr>\n",
       "      <th>...</th>\n",
       "      <td>...</td>\n",
       "      <td>...</td>\n",
       "      <td>...</td>\n",
       "      <td>...</td>\n",
       "      <td>...</td>\n",
       "      <td>...</td>\n",
       "      <td>...</td>\n",
       "      <td>...</td>\n",
       "      <td>...</td>\n",
       "      <td>...</td>\n",
       "      <td>...</td>\n",
       "      <td>...</td>\n",
       "    </tr>\n",
       "    <tr>\n",
       "      <th>4186.1232</th>\n",
       "      <td>NaN</td>\n",
       "      <td>NaN</td>\n",
       "      <td>NaN</td>\n",
       "      <td>100.668998</td>\n",
       "      <td>NaN</td>\n",
       "      <td>NaN</td>\n",
       "      <td>NaN</td>\n",
       "      <td>NaN</td>\n",
       "      <td>NaN</td>\n",
       "      <td>NaN</td>\n",
       "      <td>NaN</td>\n",
       "      <td>4186.1232</td>\n",
       "    </tr>\n",
       "    <tr>\n",
       "      <th>4186.2756</th>\n",
       "      <td>NaN</td>\n",
       "      <td>NaN</td>\n",
       "      <td>NaN</td>\n",
       "      <td>100.668998</td>\n",
       "      <td>NaN</td>\n",
       "      <td>NaN</td>\n",
       "      <td>NaN</td>\n",
       "      <td>NaN</td>\n",
       "      <td>NaN</td>\n",
       "      <td>NaN</td>\n",
       "      <td>NaN</td>\n",
       "      <td>4186.2756</td>\n",
       "    </tr>\n",
       "    <tr>\n",
       "      <th>4186.4280</th>\n",
       "      <td>NaN</td>\n",
       "      <td>NaN</td>\n",
       "      <td>NaN</td>\n",
       "      <td>100.668998</td>\n",
       "      <td>NaN</td>\n",
       "      <td>NaN</td>\n",
       "      <td>NaN</td>\n",
       "      <td>NaN</td>\n",
       "      <td>NaN</td>\n",
       "      <td>NaN</td>\n",
       "      <td>NaN</td>\n",
       "      <td>4186.4280</td>\n",
       "    </tr>\n",
       "    <tr>\n",
       "      <th>4186.5804</th>\n",
       "      <td>NaN</td>\n",
       "      <td>NaN</td>\n",
       "      <td>NaN</td>\n",
       "      <td>100.668998</td>\n",
       "      <td>NaN</td>\n",
       "      <td>NaN</td>\n",
       "      <td>NaN</td>\n",
       "      <td>NaN</td>\n",
       "      <td>NaN</td>\n",
       "      <td>NaN</td>\n",
       "      <td>NaN</td>\n",
       "      <td>4186.5804</td>\n",
       "    </tr>\n",
       "    <tr>\n",
       "      <th>4186.7328</th>\n",
       "      <td>NaN</td>\n",
       "      <td>NaN</td>\n",
       "      <td>NaN</td>\n",
       "      <td>100.668998</td>\n",
       "      <td>NaN</td>\n",
       "      <td>NaN</td>\n",
       "      <td>NaN</td>\n",
       "      <td>NaN</td>\n",
       "      <td>NaN</td>\n",
       "      <td>NaN</td>\n",
       "      <td>NaN</td>\n",
       "      <td>4186.7328</td>\n",
       "    </tr>\n",
       "  </tbody>\n",
       "</table>\n",
       "<p>25899 rows × 12 columns</p>\n",
       "</div>"
      ],
      "text/plain": [
       "           CARB_FLAG  COAL_FLAG  DT          GR  NPHI      RD  RHOB  \\\n",
       "DEPTH                                                                 \n",
       "239.8776         NaN        NaN NaN         NaN   NaN  0.7766   NaN   \n",
       "240.0300         NaN        NaN NaN         NaN   NaN  0.7717   NaN   \n",
       "240.1824         NaN        NaN NaN         NaN   NaN  0.7717   NaN   \n",
       "240.3348         NaN        NaN NaN   20.866899   NaN  0.4374   NaN   \n",
       "240.4872         NaN        NaN NaN   20.984800   NaN  2.3402   NaN   \n",
       "...              ...        ...  ..         ...   ...     ...   ...   \n",
       "4186.1232        NaN        NaN NaN  100.668998   NaN     NaN   NaN   \n",
       "4186.2756        NaN        NaN NaN  100.668998   NaN     NaN   NaN   \n",
       "4186.4280        NaN        NaN NaN  100.668998   NaN     NaN   NaN   \n",
       "4186.5804        NaN        NaN NaN  100.668998   NaN     NaN   NaN   \n",
       "4186.7328        NaN        NaN NaN  100.668998   NaN     NaN   NaN   \n",
       "\n",
       "             ROP5_RM          RS      RT  SAND_FLAG      DEPTH  \n",
       "DEPTH                                                           \n",
       "239.8776   98.863197    4.490900  0.1015        NaN   239.8776  \n",
       "240.0300   98.687103    6.752500  0.1000        NaN   240.0300  \n",
       "240.1824   99.039299    6.752500  0.1000        NaN   240.1824  \n",
       "240.3348   99.760498   12.005200  0.1000        NaN   240.3348  \n",
       "240.4872   99.748299  139.059204  0.1000        NaN   240.4872  \n",
       "...              ...         ...     ...        ...        ...  \n",
       "4186.1232        NaN         NaN     NaN        NaN  4186.1232  \n",
       "4186.2756        NaN         NaN     NaN        NaN  4186.2756  \n",
       "4186.4280        NaN         NaN     NaN        NaN  4186.4280  \n",
       "4186.5804        NaN         NaN     NaN        NaN  4186.5804  \n",
       "4186.7328        NaN         NaN     NaN        NaN  4186.7328  \n",
       "\n",
       "[25899 rows x 12 columns]"
      ]
     },
     "execution_count": 22,
     "metadata": {},
     "output_type": "execute_result"
    }
   ],
   "source": [
    "df"
   ]
  },
  {
   "cell_type": "code",
   "execution_count": 21,
   "metadata": {},
   "outputs": [
    {
     "data": {
      "text/html": [
       "<div>\n",
       "<style scoped>\n",
       "    .dataframe tbody tr th:only-of-type {\n",
       "        vertical-align: middle;\n",
       "    }\n",
       "\n",
       "    .dataframe tbody tr th {\n",
       "        vertical-align: top;\n",
       "    }\n",
       "\n",
       "    .dataframe thead th {\n",
       "        text-align: right;\n",
       "    }\n",
       "</style>\n",
       "<table border=\"1\" class=\"dataframe\">\n",
       "  <thead>\n",
       "    <tr style=\"text-align: right;\">\n",
       "      <th></th>\n",
       "      <th>CARB_FLAG</th>\n",
       "      <th>COAL_FLAG</th>\n",
       "      <th>DT</th>\n",
       "      <th>GR</th>\n",
       "      <th>NPHI</th>\n",
       "      <th>RD</th>\n",
       "      <th>RHOB</th>\n",
       "      <th>ROP5_RM</th>\n",
       "      <th>RS</th>\n",
       "      <th>RT</th>\n",
       "      <th>SAND_FLAG</th>\n",
       "      <th>DEPTH</th>\n",
       "    </tr>\n",
       "  </thead>\n",
       "  <tbody>\n",
       "    <tr>\n",
       "      <th>count</th>\n",
       "      <td>2743.000000</td>\n",
       "      <td>2647.0</td>\n",
       "      <td>13077.000000</td>\n",
       "      <td>25895.000000</td>\n",
       "      <td>18063.000000</td>\n",
       "      <td>21265.000000</td>\n",
       "      <td>13951.000000</td>\n",
       "      <td>21520.000000</td>\n",
       "      <td>21272.000000</td>\n",
       "      <td>21274.000000</td>\n",
       "      <td>2651.000000</td>\n",
       "      <td>25899.000000</td>\n",
       "    </tr>\n",
       "    <tr>\n",
       "      <th>mean</th>\n",
       "      <td>0.027342</td>\n",
       "      <td>0.0</td>\n",
       "      <td>106.160387</td>\n",
       "      <td>84.868677</td>\n",
       "      <td>0.346371</td>\n",
       "      <td>7.851980</td>\n",
       "      <td>2.124767</td>\n",
       "      <td>35.106875</td>\n",
       "      <td>54.318754</td>\n",
       "      <td>20.857914</td>\n",
       "      <td>0.579404</td>\n",
       "      <td>2213.305200</td>\n",
       "    </tr>\n",
       "    <tr>\n",
       "      <th>std</th>\n",
       "      <td>0.163109</td>\n",
       "      <td>0.0</td>\n",
       "      <td>28.132972</td>\n",
       "      <td>35.953262</td>\n",
       "      <td>0.177050</td>\n",
       "      <td>58.463106</td>\n",
       "      <td>0.229125</td>\n",
       "      <td>29.429276</td>\n",
       "      <td>350.372172</td>\n",
       "      <td>254.978691</td>\n",
       "      <td>0.493748</td>\n",
       "      <td>1139.424947</td>\n",
       "    </tr>\n",
       "    <tr>\n",
       "      <th>min</th>\n",
       "      <td>0.000000</td>\n",
       "      <td>0.0</td>\n",
       "      <td>-68.827796</td>\n",
       "      <td>10.688800</td>\n",
       "      <td>0.028200</td>\n",
       "      <td>0.100000</td>\n",
       "      <td>1.356800</td>\n",
       "      <td>1.242100</td>\n",
       "      <td>0.100000</td>\n",
       "      <td>0.100000</td>\n",
       "      <td>0.000000</td>\n",
       "      <td>239.877600</td>\n",
       "    </tr>\n",
       "    <tr>\n",
       "      <th>25%</th>\n",
       "      <td>0.000000</td>\n",
       "      <td>0.0</td>\n",
       "      <td>78.402496</td>\n",
       "      <td>58.513599</td>\n",
       "      <td>0.210000</td>\n",
       "      <td>0.709200</td>\n",
       "      <td>1.941450</td>\n",
       "      <td>14.788300</td>\n",
       "      <td>0.906700</td>\n",
       "      <td>0.674425</td>\n",
       "      <td>0.000000</td>\n",
       "      <td>1226.591400</td>\n",
       "    </tr>\n",
       "    <tr>\n",
       "      <th>50%</th>\n",
       "      <td>0.000000</td>\n",
       "      <td>0.0</td>\n",
       "      <td>114.111999</td>\n",
       "      <td>92.544800</td>\n",
       "      <td>0.332500</td>\n",
       "      <td>1.148300</td>\n",
       "      <td>2.133400</td>\n",
       "      <td>30.173550</td>\n",
       "      <td>1.676500</td>\n",
       "      <td>1.088450</td>\n",
       "      <td>1.000000</td>\n",
       "      <td>2213.305200</td>\n",
       "    </tr>\n",
       "    <tr>\n",
       "      <th>75%</th>\n",
       "      <td>0.000000</td>\n",
       "      <td>0.0</td>\n",
       "      <td>131.834197</td>\n",
       "      <td>110.460300</td>\n",
       "      <td>0.485000</td>\n",
       "      <td>1.846200</td>\n",
       "      <td>2.301850</td>\n",
       "      <td>47.812125</td>\n",
       "      <td>6.866400</td>\n",
       "      <td>1.730600</td>\n",
       "      <td>1.000000</td>\n",
       "      <td>3200.019000</td>\n",
       "    </tr>\n",
       "    <tr>\n",
       "      <th>max</th>\n",
       "      <td>1.000000</td>\n",
       "      <td>0.0</td>\n",
       "      <td>161.014801</td>\n",
       "      <td>179.878204</td>\n",
       "      <td>1.505700</td>\n",
       "      <td>1319.274040</td>\n",
       "      <td>2.939200</td>\n",
       "      <td>211.007507</td>\n",
       "      <td>5000.000000</td>\n",
       "      <td>5000.000000</td>\n",
       "      <td>1.000000</td>\n",
       "      <td>4186.732800</td>\n",
       "    </tr>\n",
       "  </tbody>\n",
       "</table>\n",
       "</div>"
      ],
      "text/plain": [
       "         CARB_FLAG  COAL_FLAG            DT            GR          NPHI  \\\n",
       "count  2743.000000     2647.0  13077.000000  25895.000000  18063.000000   \n",
       "mean      0.027342        0.0    106.160387     84.868677      0.346371   \n",
       "std       0.163109        0.0     28.132972     35.953262      0.177050   \n",
       "min       0.000000        0.0    -68.827796     10.688800      0.028200   \n",
       "25%       0.000000        0.0     78.402496     58.513599      0.210000   \n",
       "50%       0.000000        0.0    114.111999     92.544800      0.332500   \n",
       "75%       0.000000        0.0    131.834197    110.460300      0.485000   \n",
       "max       1.000000        0.0    161.014801    179.878204      1.505700   \n",
       "\n",
       "                 RD          RHOB       ROP5_RM            RS            RT  \\\n",
       "count  21265.000000  13951.000000  21520.000000  21272.000000  21274.000000   \n",
       "mean       7.851980      2.124767     35.106875     54.318754     20.857914   \n",
       "std       58.463106      0.229125     29.429276    350.372172    254.978691   \n",
       "min        0.100000      1.356800      1.242100      0.100000      0.100000   \n",
       "25%        0.709200      1.941450     14.788300      0.906700      0.674425   \n",
       "50%        1.148300      2.133400     30.173550      1.676500      1.088450   \n",
       "75%        1.846200      2.301850     47.812125      6.866400      1.730600   \n",
       "max     1319.274040      2.939200    211.007507   5000.000000   5000.000000   \n",
       "\n",
       "         SAND_FLAG         DEPTH  \n",
       "count  2651.000000  25899.000000  \n",
       "mean      0.579404   2213.305200  \n",
       "std       0.493748   1139.424947  \n",
       "min       0.000000    239.877600  \n",
       "25%       0.000000   1226.591400  \n",
       "50%       1.000000   2213.305200  \n",
       "75%       1.000000   3200.019000  \n",
       "max       1.000000   4186.732800  "
      ]
     },
     "execution_count": 21,
     "metadata": {},
     "output_type": "execute_result"
    }
   ],
   "source": [
    "df.describe()"
   ]
  },
  {
   "cell_type": "code",
   "execution_count": 17,
   "metadata": {},
   "outputs": [
    {
     "data": {
      "text/plain": [
       "nan"
      ]
     },
     "execution_count": 17,
     "metadata": {},
     "output_type": "execute_result"
    }
   ],
   "source": [
    "np.nan"
   ]
  },
  {
   "cell_type": "code",
   "execution_count": 13,
   "metadata": {},
   "outputs": [],
   "source": [
    "import numpy as np"
   ]
  },
  {
   "cell_type": "code",
   "execution_count": null,
   "metadata": {},
   "outputs": [],
   "source": []
  }
 ],
 "metadata": {
  "kernelspec": {
   "display_name": "Python 3",
   "language": "python",
   "name": "python3"
  },
  "language_info": {
   "codemirror_mode": {
    "name": "ipython",
    "version": 3
   },
   "file_extension": ".py",
   "mimetype": "text/x-python",
   "name": "python",
   "nbconvert_exporter": "python",
   "pygments_lexer": "ipython3",
   "version": "3.7.6"
  }
 },
 "nbformat": 4,
 "nbformat_minor": 4
}
