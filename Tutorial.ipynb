{
 "cells": [
  {
   "cell_type": "code",
   "execution_count": 1,
   "metadata": {},
   "outputs": [
    {
     "name": "stdout",
     "output_type": "stream",
     "text": [
      "Collecting petroeval==1.1.0\n",
      "  Using cached petroeval-1.1.0-py3-none-any.whl (6.1 kB)\n",
      "Requirement already satisfied: numpy in /home/olawale/anaconda3/lib/python3.7/site-packages (from petroeval==1.1.0) (1.18.1)\n",
      "Requirement already satisfied: matplotlib in /home/olawale/anaconda3/lib/python3.7/site-packages (from petroeval==1.1.0) (3.1.3)\n",
      "Requirement already satisfied: pandas in /home/olawale/anaconda3/lib/python3.7/site-packages (from petroeval==1.1.0) (1.0.1)\n",
      "Requirement already satisfied: python-dateutil>=2.1 in /home/olawale/anaconda3/lib/python3.7/site-packages (from matplotlib->petroeval==1.1.0) (2.8.1)\n",
      "Requirement already satisfied: kiwisolver>=1.0.1 in /home/olawale/anaconda3/lib/python3.7/site-packages (from matplotlib->petroeval==1.1.0) (1.1.0)\n",
      "Requirement already satisfied: cycler>=0.10 in /home/olawale/anaconda3/lib/python3.7/site-packages (from matplotlib->petroeval==1.1.0) (0.10.0)\n",
      "Requirement already satisfied: pyparsing!=2.0.4,!=2.1.2,!=2.1.6,>=2.0.1 in /home/olawale/anaconda3/lib/python3.7/site-packages (from matplotlib->petroeval==1.1.0) (2.4.6)\n",
      "Requirement already satisfied: pytz>=2017.2 in /home/olawale/anaconda3/lib/python3.7/site-packages (from pandas->petroeval==1.1.0) (2019.3)\n",
      "Requirement already satisfied: six>=1.5 in /home/olawale/anaconda3/lib/python3.7/site-packages (from python-dateutil>=2.1->matplotlib->petroeval==1.1.0) (1.14.0)\n",
      "Requirement already satisfied: setuptools in /home/olawale/anaconda3/lib/python3.7/site-packages (from kiwisolver>=1.0.1->matplotlib->petroeval==1.1.0) (45.2.0.post20200210)\n",
      "Installing collected packages: petroeval\n",
      "  Attempting uninstall: petroeval\n",
      "    Found existing installation: petroeval 1.0.8\n",
      "    Uninstalling petroeval-1.0.8:\n",
      "      Successfully uninstalled petroeval-1.0.8\n",
      "Successfully installed petroeval-1.1.0\n"
     ]
    }
   ],
   "source": [
    "!pip install petroeval==1.1.0"
   ]
  },
  {
   "cell_type": "code",
   "execution_count": 5,
   "metadata": {},
   "outputs": [
    {
     "data": {
      "text/plain": [
       "'/home/olawale/anaconda3/lib/python3.7/site-packages/petroeval/__init__.py'"
      ]
     },
     "execution_count": 5,
     "metadata": {},
     "output_type": "execute_result"
    }
   ],
   "source": [
    "petroeval.__file__"
   ]
  },
  {
   "cell_type": "code",
   "execution_count": 1,
   "metadata": {},
   "outputs": [
    {
     "name": "stderr",
     "output_type": "stream",
     "text": [
      "Header section Parameter regexp=~P was not found.\n"
     ]
    }
   ],
   "source": [
    "#import well log in las file and convert to dataframe\n",
    "import lasio\n",
    "las = lasio.read('WLC_PETRO_COMPUTED_INPUT_1.LAS')\n",
    "df = las.df()"
   ]
  },
  {
   "cell_type": "code",
   "execution_count": 2,
   "metadata": {},
   "outputs": [],
   "source": [
    "import petroeval\n",
    "from petroeval import evaluate_reservoir, visualizations\n",
    "from petroeval import FormationEvaluation"
   ]
  },
  {
   "cell_type": "code",
   "execution_count": 3,
   "metadata": {},
   "outputs": [
    {
     "name": "stdout",
     "output_type": "stream",
     "text": [
      "<module 'petroeval.evaluate_reservoir' from '/home/olawale/anaconda3/lib/python3.7/site-packages/petroeval/evaluate_reservoir.py'>\n"
     ]
    }
   ],
   "source": [
    "print(evaluate_reservoir)"
   ]
  },
  {
   "cell_type": "code",
   "execution_count": 4,
   "metadata": {},
   "outputs": [
    {
     "name": "stdout",
     "output_type": "stream",
     "text": [
      "<petroeval.evaluate_reservoir.FormationEvaluation object at 0x7f24af2e1850>\n"
     ]
    }
   ],
   "source": [
    "#create the reservoir section object\n",
    "\n",
    "reservoir1 = FormationEvaluation(df, 'GR', 'NPHI', 'RHOB', 'RT', 2, 10000, 72)\n",
    "table = reservoir1.show_table()\n",
    "print(reservoir1)"
   ]
  },
  {
   "cell_type": "code",
   "execution_count": null,
   "metadata": {},
   "outputs": [],
   "source": []
  },
  {
   "cell_type": "code",
   "execution_count": 5,
   "metadata": {},
   "outputs": [
    {
     "name": "stdout",
     "output_type": "stream",
     "text": [
      "Time computation is proportional to size of dataset and amount of missing values present...\n"
     ]
    }
   ],
   "source": [
    "#fill missing values using mean values of the columns, specify value if mean shouldn't be applied\n",
    "df1 = reservoir1.fill_missing(use_mean=True)"
   ]
  },
  {
   "cell_type": "code",
   "execution_count": 6,
   "metadata": {},
   "outputs": [
    {
     "name": "stdout",
     "output_type": "stream",
     "text": [
      "Title: Petrophysical Summary of the Parameters Evaluated\n",
      "                GR        LITHO          VSH      NET_PAY        PHIDF  \\\n",
      "count  9997.000000  9999.000000  9997.000000  9999.000000  2717.000000   \n",
      "mean     82.227914     0.356236     4.109587     0.233323     0.441092   \n",
      "std      36.974956     0.478910     4.393245     0.422967     0.080894   \n",
      "min      10.688800     0.000000     0.000000     0.000000     0.153939   \n",
      "25%      56.037899     0.000000     0.162859     0.000000     0.386061   \n",
      "50%      81.305603     0.000000     2.437429     0.000000     0.430545   \n",
      "75%     118.616699     1.000000     8.202534     0.000000     0.487394   \n",
      "max     161.530197     1.000000    18.381460     1.000000     0.743455   \n",
      "\n",
      "         PHIE           SW      OIL_SAT  \n",
      "count  2716.0  2717.000000  2717.000000  \n",
      "mean      0.0     0.162495     0.837505  \n",
      "std       0.0     0.041624     0.041624  \n",
      "min       0.0     0.007649     0.470580  \n",
      "25%       0.0     0.138382     0.825635  \n",
      "50%       0.0     0.154670     0.845330  \n",
      "75%       0.0     0.174365     0.861618  \n",
      "max       0.0     0.529420     0.992351  \n"
     ]
    }
   ],
   "source": [
    "print(visualizations.summary(table))"
   ]
  },
  {
   "cell_type": "code",
   "execution_count": 7,
   "metadata": {},
   "outputs": [
    {
     "name": "stdout",
     "output_type": "stream",
     "text": [
      "{'Gross rock': 9999, 'The Net to Gross is:': 0.0, 'Net Pay of reservoir:': 0, 'Total Porosity:': 0.800000000000127, 'Effective Porosity:': 0.800000000000127, 'Water Saturation:': 1.5749637443623492, 'Oil Saturation:': -0.5749637443623492}\n"
     ]
    }
   ],
   "source": [
    "print(reservoir1.parameters())"
   ]
  },
  {
   "cell_type": "code",
   "execution_count": 8,
   "metadata": {},
   "outputs": [
    {
     "name": "stderr",
     "output_type": "stream",
     "text": [
      "/home/olawale/anaconda3/lib/python3.7/site-packages/pandas/core/series.py:679: RuntimeWarning: divide by zero encountered in log\n",
      "  result = getattr(ufunc, method)(*inputs, **kwargs)\n"
     ]
    },
    {
     "data": {
      "image/png": "[encoded data removed]",
      "text/plain": [
       "<Figure size 864x576 with 4 Axes>"
      ]
     },
     "metadata": {
      "needs_background": "light"
     },
     "output_type": "display_data"
    }
   ],
   "source": [
    "#to display logs for correlation\n",
    "\n",
    "visualizations.log_plot(df1)"
   ]
  },
  {
   "cell_type": "code",
   "execution_count": 9,
   "metadata": {},
   "outputs": [
    {
     "data": {
      "text/html": [
       "<div>\n",
       "<style scoped>\n",
       "    .dataframe tbody tr th:only-of-type {\n",
       "        vertical-align: middle;\n",
       "    }\n",
       "\n",
       "    .dataframe tbody tr th {\n",
       "        vertical-align: top;\n",
       "    }\n",
       "\n",
       "    .dataframe thead th {\n",
       "        text-align: right;\n",
       "    }\n",
       "</style>\n",
       "<table border=\"1\" class=\"dataframe\">\n",
       "  <thead>\n",
       "    <tr style=\"text-align: right;\">\n",
       "      <th></th>\n",
       "      <th>CARB_FLAG</th>\n",
       "      <th>COAL_FLAG</th>\n",
       "      <th>DT</th>\n",
       "      <th>GR</th>\n",
       "      <th>NPHI</th>\n",
       "      <th>RD</th>\n",
       "      <th>RHOB</th>\n",
       "      <th>ROP5_RM</th>\n",
       "      <th>RS</th>\n",
       "      <th>RT</th>\n",
       "      <th>SAND_FLAG</th>\n",
       "      <th>DEPTH</th>\n",
       "    </tr>\n",
       "    <tr>\n",
       "      <th>DEPTH</th>\n",
       "      <th></th>\n",
       "      <th></th>\n",
       "      <th></th>\n",
       "      <th></th>\n",
       "      <th></th>\n",
       "      <th></th>\n",
       "      <th></th>\n",
       "      <th></th>\n",
       "      <th></th>\n",
       "      <th></th>\n",
       "      <th></th>\n",
       "      <th></th>\n",
       "    </tr>\n",
       "  </thead>\n",
       "  <tbody>\n",
       "    <tr>\n",
       "      <th>239.8776</th>\n",
       "      <td>0.027342</td>\n",
       "      <td>0.027342</td>\n",
       "      <td>0.027342</td>\n",
       "      <td>0.027342</td>\n",
       "      <td>0.027342</td>\n",
       "      <td>0.027342</td>\n",
       "      <td>0.027342</td>\n",
       "      <td>0.027342</td>\n",
       "      <td>0.027342</td>\n",
       "      <td>0.027342</td>\n",
       "      <td>0.027342</td>\n",
       "      <td>239.8776</td>\n",
       "    </tr>\n",
       "    <tr>\n",
       "      <th>240.0300</th>\n",
       "      <td>0.027342</td>\n",
       "      <td>0.027342</td>\n",
       "      <td>0.027342</td>\n",
       "      <td>0.027342</td>\n",
       "      <td>0.027342</td>\n",
       "      <td>0.027342</td>\n",
       "      <td>0.027342</td>\n",
       "      <td>0.027342</td>\n",
       "      <td>0.027342</td>\n",
       "      <td>0.027342</td>\n",
       "      <td>0.027342</td>\n",
       "      <td>240.0300</td>\n",
       "    </tr>\n",
       "    <tr>\n",
       "      <th>240.1824</th>\n",
       "      <td>0.027342</td>\n",
       "      <td>0.027342</td>\n",
       "      <td>0.027342</td>\n",
       "      <td>0.027342</td>\n",
       "      <td>0.027342</td>\n",
       "      <td>0.027342</td>\n",
       "      <td>0.027342</td>\n",
       "      <td>0.027342</td>\n",
       "      <td>0.027342</td>\n",
       "      <td>0.027342</td>\n",
       "      <td>0.027342</td>\n",
       "      <td>240.1824</td>\n",
       "    </tr>\n",
       "    <tr>\n",
       "      <th>240.3348</th>\n",
       "      <td>0.027342</td>\n",
       "      <td>0.027342</td>\n",
       "      <td>0.027342</td>\n",
       "      <td>0.027342</td>\n",
       "      <td>0.027342</td>\n",
       "      <td>0.027342</td>\n",
       "      <td>0.027342</td>\n",
       "      <td>0.027342</td>\n",
       "      <td>0.027342</td>\n",
       "      <td>0.027342</td>\n",
       "      <td>0.027342</td>\n",
       "      <td>240.3348</td>\n",
       "    </tr>\n",
       "    <tr>\n",
       "      <th>240.4872</th>\n",
       "      <td>0.027342</td>\n",
       "      <td>0.027342</td>\n",
       "      <td>0.027342</td>\n",
       "      <td>0.027342</td>\n",
       "      <td>0.027342</td>\n",
       "      <td>0.027342</td>\n",
       "      <td>0.027342</td>\n",
       "      <td>0.027342</td>\n",
       "      <td>0.027342</td>\n",
       "      <td>0.027342</td>\n",
       "      <td>0.027342</td>\n",
       "      <td>240.4872</td>\n",
       "    </tr>\n",
       "    <tr>\n",
       "      <th>...</th>\n",
       "      <td>...</td>\n",
       "      <td>...</td>\n",
       "      <td>...</td>\n",
       "      <td>...</td>\n",
       "      <td>...</td>\n",
       "      <td>...</td>\n",
       "      <td>...</td>\n",
       "      <td>...</td>\n",
       "      <td>...</td>\n",
       "      <td>...</td>\n",
       "      <td>...</td>\n",
       "      <td>...</td>\n",
       "    </tr>\n",
       "    <tr>\n",
       "      <th>4186.1232</th>\n",
       "      <td>0.027342</td>\n",
       "      <td>0.027342</td>\n",
       "      <td>0.027342</td>\n",
       "      <td>0.027342</td>\n",
       "      <td>0.027342</td>\n",
       "      <td>0.027342</td>\n",
       "      <td>0.027342</td>\n",
       "      <td>0.027342</td>\n",
       "      <td>0.027342</td>\n",
       "      <td>0.027342</td>\n",
       "      <td>0.027342</td>\n",
       "      <td>4186.1232</td>\n",
       "    </tr>\n",
       "    <tr>\n",
       "      <th>4186.2756</th>\n",
       "      <td>0.027342</td>\n",
       "      <td>0.027342</td>\n",
       "      <td>0.027342</td>\n",
       "      <td>0.027342</td>\n",
       "      <td>0.027342</td>\n",
       "      <td>0.027342</td>\n",
       "      <td>0.027342</td>\n",
       "      <td>0.027342</td>\n",
       "      <td>0.027342</td>\n",
       "      <td>0.027342</td>\n",
       "      <td>0.027342</td>\n",
       "      <td>4186.2756</td>\n",
       "    </tr>\n",
       "    <tr>\n",
       "      <th>4186.4280</th>\n",
       "      <td>0.027342</td>\n",
       "      <td>0.027342</td>\n",
       "      <td>0.027342</td>\n",
       "      <td>0.027342</td>\n",
       "      <td>0.027342</td>\n",
       "      <td>0.027342</td>\n",
       "      <td>0.027342</td>\n",
       "      <td>0.027342</td>\n",
       "      <td>0.027342</td>\n",
       "      <td>0.027342</td>\n",
       "      <td>0.027342</td>\n",
       "      <td>4186.4280</td>\n",
       "    </tr>\n",
       "    <tr>\n",
       "      <th>4186.5804</th>\n",
       "      <td>0.027342</td>\n",
       "      <td>0.027342</td>\n",
       "      <td>0.027342</td>\n",
       "      <td>0.027342</td>\n",
       "      <td>0.027342</td>\n",
       "      <td>0.027342</td>\n",
       "      <td>0.027342</td>\n",
       "      <td>0.027342</td>\n",
       "      <td>0.027342</td>\n",
       "      <td>0.027342</td>\n",
       "      <td>0.027342</td>\n",
       "      <td>4186.5804</td>\n",
       "    </tr>\n",
       "    <tr>\n",
       "      <th>4186.7328</th>\n",
       "      <td>0.027342</td>\n",
       "      <td>0.027342</td>\n",
       "      <td>0.027342</td>\n",
       "      <td>0.027342</td>\n",
       "      <td>0.027342</td>\n",
       "      <td>0.027342</td>\n",
       "      <td>0.027342</td>\n",
       "      <td>0.027342</td>\n",
       "      <td>0.027342</td>\n",
       "      <td>0.027342</td>\n",
       "      <td>0.027342</td>\n",
       "      <td>4186.7328</td>\n",
       "    </tr>\n",
       "  </tbody>\n",
       "</table>\n",
       "<p>25899 rows × 12 columns</p>\n",
       "</div>"
      ],
      "text/plain": [
       "           CARB_FLAG  COAL_FLAG        DT        GR      NPHI        RD  \\\n",
       "DEPTH                                                                     \n",
       "239.8776    0.027342   0.027342  0.027342  0.027342  0.027342  0.027342   \n",
       "240.0300    0.027342   0.027342  0.027342  0.027342  0.027342  0.027342   \n",
       "240.1824    0.027342   0.027342  0.027342  0.027342  0.027342  0.027342   \n",
       "240.3348    0.027342   0.027342  0.027342  0.027342  0.027342  0.027342   \n",
       "240.4872    0.027342   0.027342  0.027342  0.027342  0.027342  0.027342   \n",
       "...              ...        ...       ...       ...       ...       ...   \n",
       "4186.1232   0.027342   0.027342  0.027342  0.027342  0.027342  0.027342   \n",
       "4186.2756   0.027342   0.027342  0.027342  0.027342  0.027342  0.027342   \n",
       "4186.4280   0.027342   0.027342  0.027342  0.027342  0.027342  0.027342   \n",
       "4186.5804   0.027342   0.027342  0.027342  0.027342  0.027342  0.027342   \n",
       "4186.7328   0.027342   0.027342  0.027342  0.027342  0.027342  0.027342   \n",
       "\n",
       "               RHOB   ROP5_RM        RS        RT  SAND_FLAG      DEPTH  \n",
       "DEPTH                                                                    \n",
       "239.8776   0.027342  0.027342  0.027342  0.027342   0.027342   239.8776  \n",
       "240.0300   0.027342  0.027342  0.027342  0.027342   0.027342   240.0300  \n",
       "240.1824   0.027342  0.027342  0.027342  0.027342   0.027342   240.1824  \n",
       "240.3348   0.027342  0.027342  0.027342  0.027342   0.027342   240.3348  \n",
       "240.4872   0.027342  0.027342  0.027342  0.027342   0.027342   240.4872  \n",
       "...             ...       ...       ...       ...        ...        ...  \n",
       "4186.1232  0.027342  0.027342  0.027342  0.027342   0.027342  4186.1232  \n",
       "4186.2756  0.027342  0.027342  0.027342  0.027342   0.027342  4186.2756  \n",
       "4186.4280  0.027342  0.027342  0.027342  0.027342   0.027342  4186.4280  \n",
       "4186.5804  0.027342  0.027342  0.027342  0.027342   0.027342  4186.5804  \n",
       "4186.7328  0.027342  0.027342  0.027342  0.027342   0.027342  4186.7328  \n",
       "\n",
       "[25899 rows x 12 columns]"
      ]
     },
     "execution_count": 9,
     "metadata": {},
     "output_type": "execute_result"
    }
   ],
   "source": [
    "df1"
   ]
  },
  {
   "cell_type": "code",
   "execution_count": 10,
   "metadata": {},
   "outputs": [
    {
     "data": {
      "text/html": [
       "<div>\n",
       "<style scoped>\n",
       "    .dataframe tbody tr th:only-of-type {\n",
       "        vertical-align: middle;\n",
       "    }\n",
       "\n",
       "    .dataframe tbody tr th {\n",
       "        vertical-align: top;\n",
       "    }\n",
       "\n",
       "    .dataframe thead th {\n",
       "        text-align: right;\n",
       "    }\n",
       "</style>\n",
       "<table border=\"1\" class=\"dataframe\">\n",
       "  <thead>\n",
       "    <tr style=\"text-align: right;\">\n",
       "      <th></th>\n",
       "      <th>CARB_FLAG</th>\n",
       "      <th>COAL_FLAG</th>\n",
       "      <th>DT</th>\n",
       "      <th>GR</th>\n",
       "      <th>NPHI</th>\n",
       "      <th>RD</th>\n",
       "      <th>RHOB</th>\n",
       "      <th>ROP5_RM</th>\n",
       "      <th>RS</th>\n",
       "      <th>RT</th>\n",
       "      <th>SAND_FLAG</th>\n",
       "      <th>DEPTH</th>\n",
       "    </tr>\n",
       "  </thead>\n",
       "  <tbody>\n",
       "    <tr>\n",
       "      <th>count</th>\n",
       "      <td>25899.000000</td>\n",
       "      <td>25899.000000</td>\n",
       "      <td>25899.000000</td>\n",
       "      <td>25899.000000</td>\n",
       "      <td>25899.000000</td>\n",
       "      <td>25899.000000</td>\n",
       "      <td>25899.000000</td>\n",
       "      <td>25899.000000</td>\n",
       "      <td>25899.000000</td>\n",
       "      <td>25899.000000</td>\n",
       "      <td>25899.000000</td>\n",
       "      <td>25899.000000</td>\n",
       "    </tr>\n",
       "    <tr>\n",
       "      <th>mean</th>\n",
       "      <td>0.027342</td>\n",
       "      <td>0.027342</td>\n",
       "      <td>0.027342</td>\n",
       "      <td>0.027342</td>\n",
       "      <td>0.027342</td>\n",
       "      <td>0.027342</td>\n",
       "      <td>0.027342</td>\n",
       "      <td>0.027342</td>\n",
       "      <td>0.027342</td>\n",
       "      <td>0.027342</td>\n",
       "      <td>0.027342</td>\n",
       "      <td>2213.305200</td>\n",
       "    </tr>\n",
       "    <tr>\n",
       "      <th>std</th>\n",
       "      <td>0.053073</td>\n",
       "      <td>0.053073</td>\n",
       "      <td>0.053073</td>\n",
       "      <td>0.053073</td>\n",
       "      <td>0.053073</td>\n",
       "      <td>0.053073</td>\n",
       "      <td>0.053073</td>\n",
       "      <td>0.053073</td>\n",
       "      <td>0.053073</td>\n",
       "      <td>0.053073</td>\n",
       "      <td>0.053073</td>\n",
       "      <td>1139.424947</td>\n",
       "    </tr>\n",
       "    <tr>\n",
       "      <th>min</th>\n",
       "      <td>0.000000</td>\n",
       "      <td>0.000000</td>\n",
       "      <td>0.000000</td>\n",
       "      <td>0.000000</td>\n",
       "      <td>0.000000</td>\n",
       "      <td>0.000000</td>\n",
       "      <td>0.000000</td>\n",
       "      <td>0.000000</td>\n",
       "      <td>0.000000</td>\n",
       "      <td>0.000000</td>\n",
       "      <td>0.000000</td>\n",
       "      <td>239.877600</td>\n",
       "    </tr>\n",
       "    <tr>\n",
       "      <th>25%</th>\n",
       "      <td>0.027342</td>\n",
       "      <td>0.027342</td>\n",
       "      <td>0.027342</td>\n",
       "      <td>0.027342</td>\n",
       "      <td>0.027342</td>\n",
       "      <td>0.027342</td>\n",
       "      <td>0.027342</td>\n",
       "      <td>0.027342</td>\n",
       "      <td>0.027342</td>\n",
       "      <td>0.027342</td>\n",
       "      <td>0.027342</td>\n",
       "      <td>1226.591400</td>\n",
       "    </tr>\n",
       "    <tr>\n",
       "      <th>50%</th>\n",
       "      <td>0.027342</td>\n",
       "      <td>0.027342</td>\n",
       "      <td>0.027342</td>\n",
       "      <td>0.027342</td>\n",
       "      <td>0.027342</td>\n",
       "      <td>0.027342</td>\n",
       "      <td>0.027342</td>\n",
       "      <td>0.027342</td>\n",
       "      <td>0.027342</td>\n",
       "      <td>0.027342</td>\n",
       "      <td>0.027342</td>\n",
       "      <td>2213.305200</td>\n",
       "    </tr>\n",
       "    <tr>\n",
       "      <th>75%</th>\n",
       "      <td>0.027342</td>\n",
       "      <td>0.027342</td>\n",
       "      <td>0.027342</td>\n",
       "      <td>0.027342</td>\n",
       "      <td>0.027342</td>\n",
       "      <td>0.027342</td>\n",
       "      <td>0.027342</td>\n",
       "      <td>0.027342</td>\n",
       "      <td>0.027342</td>\n",
       "      <td>0.027342</td>\n",
       "      <td>0.027342</td>\n",
       "      <td>3200.019000</td>\n",
       "    </tr>\n",
       "    <tr>\n",
       "      <th>max</th>\n",
       "      <td>1.000000</td>\n",
       "      <td>1.000000</td>\n",
       "      <td>1.000000</td>\n",
       "      <td>1.000000</td>\n",
       "      <td>1.000000</td>\n",
       "      <td>1.000000</td>\n",
       "      <td>1.000000</td>\n",
       "      <td>1.000000</td>\n",
       "      <td>1.000000</td>\n",
       "      <td>1.000000</td>\n",
       "      <td>1.000000</td>\n",
       "      <td>4186.732800</td>\n",
       "    </tr>\n",
       "  </tbody>\n",
       "</table>\n",
       "</div>"
      ],
      "text/plain": [
       "          CARB_FLAG     COAL_FLAG            DT            GR          NPHI  \\\n",
       "count  25899.000000  25899.000000  25899.000000  25899.000000  25899.000000   \n",
       "mean       0.027342      0.027342      0.027342      0.027342      0.027342   \n",
       "std        0.053073      0.053073      0.053073      0.053073      0.053073   \n",
       "min        0.000000      0.000000      0.000000      0.000000      0.000000   \n",
       "25%        0.027342      0.027342      0.027342      0.027342      0.027342   \n",
       "50%        0.027342      0.027342      0.027342      0.027342      0.027342   \n",
       "75%        0.027342      0.027342      0.027342      0.027342      0.027342   \n",
       "max        1.000000      1.000000      1.000000      1.000000      1.000000   \n",
       "\n",
       "                 RD          RHOB       ROP5_RM            RS            RT  \\\n",
       "count  25899.000000  25899.000000  25899.000000  25899.000000  25899.000000   \n",
       "mean       0.027342      0.027342      0.027342      0.027342      0.027342   \n",
       "std        0.053073      0.053073      0.053073      0.053073      0.053073   \n",
       "min        0.000000      0.000000      0.000000      0.000000      0.000000   \n",
       "25%        0.027342      0.027342      0.027342      0.027342      0.027342   \n",
       "50%        0.027342      0.027342      0.027342      0.027342      0.027342   \n",
       "75%        0.027342      0.027342      0.027342      0.027342      0.027342   \n",
       "max        1.000000      1.000000      1.000000      1.000000      1.000000   \n",
       "\n",
       "          SAND_FLAG         DEPTH  \n",
       "count  25899.000000  25899.000000  \n",
       "mean       0.027342   2213.305200  \n",
       "std        0.053073   1139.424947  \n",
       "min        0.000000    239.877600  \n",
       "25%        0.027342   1226.591400  \n",
       "50%        0.027342   2213.305200  \n",
       "75%        0.027342   3200.019000  \n",
       "max        1.000000   4186.732800  "
      ]
     },
     "execution_count": 10,
     "metadata": {},
     "output_type": "execute_result"
    }
   ],
   "source": [
    "df1.describe()"
   ]
  },
  {
   "cell_type": "code",
   "execution_count": 17,
   "metadata": {},
   "outputs": [
    {
     "data": {
      "text/plain": [
       "nan"
      ]
     },
     "execution_count": 17,
     "metadata": {},
     "output_type": "execute_result"
    }
   ],
   "source": [
    "np.nan"
   ]
  },
  {
   "cell_type": "code",
   "execution_count": 13,
   "metadata": {},
   "outputs": [],
   "source": [
    "import numpy as np"
   ]
  },
  {
   "cell_type": "code",
   "execution_count": null,
   "metadata": {},
   "outputs": [],
   "source": []
  }
 ],
 "metadata": {
  "kernelspec": {
   "display_name": "Python 3",
   "language": "python",
   "name": "python3"
  },
  "language_info": {
   "codemirror_mode": {
    "name": "ipython",
    "version": 3
   },
   "file_extension": ".py",
   "mimetype": "text/x-python",
   "name": "python",
   "nbconvert_exporter": "python",
   "pygments_lexer": "ipython3",
   "version": "3.7.6"
  }
 },
 "nbformat": 4,
 "nbformat_minor": 4
}
